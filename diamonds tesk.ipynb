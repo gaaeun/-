{
 "cells": [
  {
   "cell_type": "markdown",
   "id": "bb0a3f17-f81c-4843-a761-c372049c486a",
   "metadata": {},
   "source": [
    "### 1. 라이브러리 불러오고 데이터 분석하기"
   ]
  },
  {
   "cell_type": "code",
   "execution_count": 1,
   "id": "b30e7d43-f701-4f77-a3a8-5437c5863081",
   "metadata": {},
   "outputs": [],
   "source": [
    "!pip install xgboost --quiet"
   ]
  },
  {
   "cell_type": "code",
   "execution_count": 2,
   "id": "69f62b95-5a7b-4264-8033-46a2403b12fd",
   "metadata": {},
   "outputs": [],
   "source": [
    "from xgboost import XGBRegressor"
   ]
  },
  {
   "cell_type": "code",
   "execution_count": 3,
   "id": "c15cbd07-7ce3-4b40-9a1b-226b674e70b7",
   "metadata": {},
   "outputs": [],
   "source": [
    "#필요한 라이브러리 불러옴.\n",
    "import pandas as pd\n",
    "import numpy as np\n",
    "import xgboost as xgb\n",
    "import matplotlib.pyplot as plt\n",
    "from sklearn.model_selection import train_test_split\n",
    "from sklearn.metrics import mean_squared_error, r2_score"
   ]
  },
  {
   "cell_type": "code",
   "execution_count": 4,
   "id": "3e266efa-b4a5-4620-9447-d804c6c30eb3",
   "metadata": {},
   "outputs": [
    {
     "data": {
      "text/html": [
       "<div>\n",
       "<style scoped>\n",
       "    .dataframe tbody tr th:only-of-type {\n",
       "        vertical-align: middle;\n",
       "    }\n",
       "\n",
       "    .dataframe tbody tr th {\n",
       "        vertical-align: top;\n",
       "    }\n",
       "\n",
       "    .dataframe thead th {\n",
       "        text-align: right;\n",
       "    }\n",
       "</style>\n",
       "<table border=\"1\" class=\"dataframe\">\n",
       "  <thead>\n",
       "    <tr style=\"text-align: right;\">\n",
       "      <th></th>\n",
       "      <th>Unnamed: 0</th>\n",
       "      <th>carat</th>\n",
       "      <th>cut</th>\n",
       "      <th>color</th>\n",
       "      <th>clarity</th>\n",
       "      <th>depth</th>\n",
       "      <th>table</th>\n",
       "      <th>price</th>\n",
       "      <th>x</th>\n",
       "      <th>y</th>\n",
       "      <th>z</th>\n",
       "    </tr>\n",
       "  </thead>\n",
       "  <tbody>\n",
       "    <tr>\n",
       "      <th>0</th>\n",
       "      <td>1</td>\n",
       "      <td>0.23</td>\n",
       "      <td>Ideal</td>\n",
       "      <td>E</td>\n",
       "      <td>SI2</td>\n",
       "      <td>61.5</td>\n",
       "      <td>55.0</td>\n",
       "      <td>326</td>\n",
       "      <td>3.95</td>\n",
       "      <td>3.98</td>\n",
       "      <td>2.43</td>\n",
       "    </tr>\n",
       "    <tr>\n",
       "      <th>1</th>\n",
       "      <td>2</td>\n",
       "      <td>0.21</td>\n",
       "      <td>Premium</td>\n",
       "      <td>E</td>\n",
       "      <td>SI1</td>\n",
       "      <td>59.8</td>\n",
       "      <td>61.0</td>\n",
       "      <td>326</td>\n",
       "      <td>3.89</td>\n",
       "      <td>3.84</td>\n",
       "      <td>2.31</td>\n",
       "    </tr>\n",
       "    <tr>\n",
       "      <th>2</th>\n",
       "      <td>3</td>\n",
       "      <td>0.23</td>\n",
       "      <td>Good</td>\n",
       "      <td>E</td>\n",
       "      <td>VS1</td>\n",
       "      <td>56.9</td>\n",
       "      <td>65.0</td>\n",
       "      <td>327</td>\n",
       "      <td>4.05</td>\n",
       "      <td>4.07</td>\n",
       "      <td>2.31</td>\n",
       "    </tr>\n",
       "    <tr>\n",
       "      <th>3</th>\n",
       "      <td>4</td>\n",
       "      <td>0.29</td>\n",
       "      <td>Premium</td>\n",
       "      <td>I</td>\n",
       "      <td>VS2</td>\n",
       "      <td>62.4</td>\n",
       "      <td>58.0</td>\n",
       "      <td>334</td>\n",
       "      <td>4.20</td>\n",
       "      <td>4.23</td>\n",
       "      <td>2.63</td>\n",
       "    </tr>\n",
       "    <tr>\n",
       "      <th>4</th>\n",
       "      <td>5</td>\n",
       "      <td>0.31</td>\n",
       "      <td>Good</td>\n",
       "      <td>J</td>\n",
       "      <td>SI2</td>\n",
       "      <td>63.3</td>\n",
       "      <td>58.0</td>\n",
       "      <td>335</td>\n",
       "      <td>4.34</td>\n",
       "      <td>4.35</td>\n",
       "      <td>2.75</td>\n",
       "    </tr>\n",
       "  </tbody>\n",
       "</table>\n",
       "</div>"
      ],
      "text/plain": [
       "   Unnamed: 0  carat      cut color clarity  depth  table  price     x     y  \\\n",
       "0           1   0.23    Ideal     E     SI2   61.5   55.0    326  3.95  3.98   \n",
       "1           2   0.21  Premium     E     SI1   59.8   61.0    326  3.89  3.84   \n",
       "2           3   0.23     Good     E     VS1   56.9   65.0    327  4.05  4.07   \n",
       "3           4   0.29  Premium     I     VS2   62.4   58.0    334  4.20  4.23   \n",
       "4           5   0.31     Good     J     SI2   63.3   58.0    335  4.34  4.35   \n",
       "\n",
       "      z  \n",
       "0  2.43  \n",
       "1  2.31  \n",
       "2  2.31  \n",
       "3  2.63  \n",
       "4  2.75  "
      ]
     },
     "execution_count": 4,
     "metadata": {},
     "output_type": "execute_result"
    }
   ],
   "source": [
    "data = pd.read_csv(\"diamonds.csv\") #데이터 가져오기\n",
    "data.head() #5번째 행까지 데이터 보기"
   ]
  },
  {
   "cell_type": "code",
   "execution_count": 5,
   "id": "513733dc-ee37-48cf-9b5a-c6bb70ea5956",
   "metadata": {},
   "outputs": [
    {
     "data": {
      "text/html": [
       "<div>\n",
       "<style scoped>\n",
       "    .dataframe tbody tr th:only-of-type {\n",
       "        vertical-align: middle;\n",
       "    }\n",
       "\n",
       "    .dataframe tbody tr th {\n",
       "        vertical-align: top;\n",
       "    }\n",
       "\n",
       "    .dataframe thead th {\n",
       "        text-align: right;\n",
       "    }\n",
       "</style>\n",
       "<table border=\"1\" class=\"dataframe\">\n",
       "  <thead>\n",
       "    <tr style=\"text-align: right;\">\n",
       "      <th></th>\n",
       "      <th>carat</th>\n",
       "      <th>cut</th>\n",
       "      <th>color</th>\n",
       "      <th>clarity</th>\n",
       "      <th>depth</th>\n",
       "      <th>table</th>\n",
       "      <th>price</th>\n",
       "      <th>x</th>\n",
       "      <th>y</th>\n",
       "      <th>z</th>\n",
       "    </tr>\n",
       "  </thead>\n",
       "  <tbody>\n",
       "    <tr>\n",
       "      <th>0</th>\n",
       "      <td>0.23</td>\n",
       "      <td>Ideal</td>\n",
       "      <td>E</td>\n",
       "      <td>SI2</td>\n",
       "      <td>61.5</td>\n",
       "      <td>55.0</td>\n",
       "      <td>326</td>\n",
       "      <td>3.95</td>\n",
       "      <td>3.98</td>\n",
       "      <td>2.43</td>\n",
       "    </tr>\n",
       "    <tr>\n",
       "      <th>1</th>\n",
       "      <td>0.21</td>\n",
       "      <td>Premium</td>\n",
       "      <td>E</td>\n",
       "      <td>SI1</td>\n",
       "      <td>59.8</td>\n",
       "      <td>61.0</td>\n",
       "      <td>326</td>\n",
       "      <td>3.89</td>\n",
       "      <td>3.84</td>\n",
       "      <td>2.31</td>\n",
       "    </tr>\n",
       "    <tr>\n",
       "      <th>2</th>\n",
       "      <td>0.23</td>\n",
       "      <td>Good</td>\n",
       "      <td>E</td>\n",
       "      <td>VS1</td>\n",
       "      <td>56.9</td>\n",
       "      <td>65.0</td>\n",
       "      <td>327</td>\n",
       "      <td>4.05</td>\n",
       "      <td>4.07</td>\n",
       "      <td>2.31</td>\n",
       "    </tr>\n",
       "    <tr>\n",
       "      <th>3</th>\n",
       "      <td>0.29</td>\n",
       "      <td>Premium</td>\n",
       "      <td>I</td>\n",
       "      <td>VS2</td>\n",
       "      <td>62.4</td>\n",
       "      <td>58.0</td>\n",
       "      <td>334</td>\n",
       "      <td>4.20</td>\n",
       "      <td>4.23</td>\n",
       "      <td>2.63</td>\n",
       "    </tr>\n",
       "    <tr>\n",
       "      <th>4</th>\n",
       "      <td>0.31</td>\n",
       "      <td>Good</td>\n",
       "      <td>J</td>\n",
       "      <td>SI2</td>\n",
       "      <td>63.3</td>\n",
       "      <td>58.0</td>\n",
       "      <td>335</td>\n",
       "      <td>4.34</td>\n",
       "      <td>4.35</td>\n",
       "      <td>2.75</td>\n",
       "    </tr>\n",
       "  </tbody>\n",
       "</table>\n",
       "</div>"
      ],
      "text/plain": [
       "   carat      cut color clarity  depth  table  price     x     y     z\n",
       "0   0.23    Ideal     E     SI2   61.5   55.0    326  3.95  3.98  2.43\n",
       "1   0.21  Premium     E     SI1   59.8   61.0    326  3.89  3.84  2.31\n",
       "2   0.23     Good     E     VS1   56.9   65.0    327  4.05  4.07  2.31\n",
       "3   0.29  Premium     I     VS2   62.4   58.0    334  4.20  4.23  2.63\n",
       "4   0.31     Good     J     SI2   63.3   58.0    335  4.34  4.35  2.75"
      ]
     },
     "execution_count": 5,
     "metadata": {},
     "output_type": "execute_result"
    }
   ],
   "source": [
    "data = data.drop(columns=[\"Unnamed: 0\"], errors=\"ignore\") #특징이 아닌 첫번째 데이터 삭제\n",
    "data.head() #5번째 행까지 데이터 보기"
   ]
  },
  {
   "cell_type": "code",
   "execution_count": 6,
   "id": "df547aab-a239-45f0-9370-5a06cd5d76ae",
   "metadata": {},
   "outputs": [
    {
     "name": "stdout",
     "output_type": "stream",
     "text": [
      "\n",
      "데이터 요약 정보:\n",
      "\n",
      "<class 'pandas.core.frame.DataFrame'>\n",
      "RangeIndex: 53940 entries, 0 to 53939\n",
      "Data columns (total 10 columns):\n",
      " #   Column   Non-Null Count  Dtype  \n",
      "---  ------   --------------  -----  \n",
      " 0   carat    53940 non-null  float64\n",
      " 1   cut      53940 non-null  object \n",
      " 2   color    53940 non-null  object \n",
      " 3   clarity  53940 non-null  object \n",
      " 4   depth    53940 non-null  float64\n",
      " 5   table    53940 non-null  float64\n",
      " 6   price    53940 non-null  int64  \n",
      " 7   x        53940 non-null  float64\n",
      " 8   y        53940 non-null  float64\n",
      " 9   z        53940 non-null  float64\n",
      "dtypes: float64(6), int64(1), object(3)\n",
      "memory usage: 4.1+ MB\n",
      "None\n"
     ]
    }
   ],
   "source": [
    "print(\"\\n데이터 요약 정보:\\n\")\n",
    "print(data.info())  # 데이터 타입 확인"
   ]
  },
  {
   "cell_type": "code",
   "execution_count": 7,
   "id": "37432e74-adbc-45ac-8eea-907476458f0e",
   "metadata": {},
   "outputs": [
    {
     "name": "stdout",
     "output_type": "stream",
     "text": [
      "\n",
      "기술 통계 정보:\n",
      "\n",
      "              carat         depth         table         price             x  \\\n",
      "count  53940.000000  53940.000000  53940.000000  53940.000000  53940.000000   \n",
      "mean       0.797940     61.749405     57.457184   3932.799722      5.731157   \n",
      "std        0.474011      1.432621      2.234491   3989.439738      1.121761   \n",
      "min        0.200000     43.000000     43.000000    326.000000      0.000000   \n",
      "25%        0.400000     61.000000     56.000000    950.000000      4.710000   \n",
      "50%        0.700000     61.800000     57.000000   2401.000000      5.700000   \n",
      "75%        1.040000     62.500000     59.000000   5324.250000      6.540000   \n",
      "max        5.010000     79.000000     95.000000  18823.000000     10.740000   \n",
      "\n",
      "                  y             z  \n",
      "count  53940.000000  53940.000000  \n",
      "mean       5.734526      3.538734  \n",
      "std        1.142135      0.705699  \n",
      "min        0.000000      0.000000  \n",
      "25%        4.720000      2.910000  \n",
      "50%        5.710000      3.530000  \n",
      "75%        6.540000      4.040000  \n",
      "max       58.900000     31.800000  \n"
     ]
    }
   ],
   "source": [
    "print(\"\\n기술 통계 정보:\\n\")\n",
    "print(data.describe())  # 수치형 변수 통계"
   ]
  },
  {
   "cell_type": "code",
   "execution_count": 8,
   "id": "dc57e3db-1b38-4b69-ba45-30feb27c5b68",
   "metadata": {},
   "outputs": [
    {
     "name": "stdout",
     "output_type": "stream",
     "text": [
      "\n",
      "결측치 확인:\n",
      "carat      0\n",
      "cut        0\n",
      "color      0\n",
      "clarity    0\n",
      "depth      0\n",
      "table      0\n",
      "price      0\n",
      "x          0\n",
      "y          0\n",
      "z          0\n",
      "dtype: int64\n"
     ]
    }
   ],
   "source": [
    "print(\"\\n결측치 확인:\")\n",
    "print(data.isnull().sum())"
   ]
  },
  {
   "cell_type": "code",
   "execution_count": 9,
   "id": "df5fe3aa-24ab-40ac-b0c0-c2481fe8603b",
   "metadata": {},
   "outputs": [
    {
     "name": "stdout",
     "output_type": "stream",
     "text": [
      "중복된 데이터 개수: 146\n",
      "중복 제거 전 데이터 크기: (53940, 10)\n",
      "중복 제거 후 데이터 크기: (53794, 10)\n"
     ]
    }
   ],
   "source": [
    "# 중복된 행 확인\n",
    "duplicates = data.duplicated()\n",
    "print(f\"중복된 데이터 개수: {duplicates.sum()}\")\n",
    "\n",
    "# 중복된 데이터 제거\n",
    "print(f\"중복 제거 전 데이터 크기: {data.shape}\")\n",
    "data = data.drop_duplicates()\n",
    "print(f\"중복 제거 후 데이터 크기: {data.shape}\")"
   ]
  },
  {
   "cell_type": "markdown",
   "id": "ee24bb77-d306-4b9e-9cdb-4a2706486a73",
   "metadata": {},
   "source": [
    "#### Attribute Information\n"
   ]
  },
  {
   "cell_type": "markdown",
   "id": "62dce939-5029-44d2-867b-43dde83726a6",
   "metadata": {},
   "source": [
    "### 가격\n",
    "미국 달러(\\$326--\\$18,823)\n",
    "\n",
    "### 캐럿 무게\n",
    "다이아몬드의 무게 (0.2--5.01)\n",
    "\n",
    "### 컷 품질\n",
    "컷의 품질 (Fair, Good, Very Good, Premium, Ideal)\n",
    "\n",
    "### 색상\n",
    "다이아몬드 색상, J (최악)에서 D (최고)까지\n",
    "\n",
    "### 투명도\n",
    "다이아몬드의 투명도 측정 (I1 (최악), SI2, SI1, VS2, VS1, VVS2, VVS1, IF (최고))\n",
    "\n",
    "### x\n",
    "길이 (mm) (0--10.74)\n",
    "\n",
    "### y\n",
    "너비 (mm) (0--58.9)\n",
    "\n",
    "### z\n",
    "깊이 (mm) (0--31.8)\n",
    "\n",
    "### 깊이\n",
    "전체 깊이 비율 = z / 평균(x, y) = 2 * z / (x + y) (43--79)\n",
    "\n",
    "### 테이블\n",
    "다이아몬드의 가장 넓은 부분에 대한 상단 너비 비율 (43--95)\n"
   ]
  },
  {
   "cell_type": "markdown",
   "id": "4502d7d7-3536-4111-a355-11404650a920",
   "metadata": {},
   "source": [
    "### 2. 데이터 전처리\n",
    "##### - cut(Fair, Good, Very Good, Premium, Ideal), \n",
    "##### - color(J~D),\n",
    "##### - clarity(I1 (worst), SI2, SI1, VS2, VS1, VVS2, VVS1, IF (best)) \n",
    "##### 는 범주형 데이터이므로 원-핫 인코딩한다."
   ]
  },
  {
   "cell_type": "markdown",
   "id": "a2b88b94-6c78-41c1-af05-2098c6d98898",
   "metadata": {},
   "source": [
    "##### - x\n",
    "##### - y\n",
    "##### - z\n",
    "##### 는 depth( = 2 * z / (x + y))에 포함되어 있으므로 제거."
   ]
  },
  {
   "cell_type": "code",
   "execution_count": null,
   "id": "74d0b0e6-19e0-40a5-86a1-fe2ac28d5af7",
   "metadata": {},
   "outputs": [],
   "source": [
    "data = pd.get_dummies(data, prefix = ['cut', 'color', 'clarity'], columns=['cut', 'color', 'clarity'])\n",
    "data = data.drop(columns=['x', 'y', 'z'])"
   ]
  },
  {
   "cell_type": "code",
   "execution_count": null,
   "id": "565a5322-78d0-4e7b-923f-028499cb6f50",
   "metadata": {},
   "outputs": [],
   "source": [
    "data.head()"
   ]
  },
  {
   "cell_type": "markdown",
   "id": "a3637190-28ef-4948-9486-34012da18441",
   "metadata": {},
   "source": [
    "##### 최종 변수: carat, depth, table, 원핫 인코딩된 cut, color, clarity\n",
    "##### target 값: price"
   ]
  },
  {
   "cell_type": "code",
   "execution_count": null,
   "id": "aa9f614f-4cec-4acd-b8ae-064b24222e22",
   "metadata": {},
   "outputs": [],
   "source": [
    "var = [x for x in data.columns if x not in 'price'] ## Removing our target variable"
   ]
  },
  {
   "cell_type": "code",
   "execution_count": null,
   "id": "1505ad34-eb23-49cb-b9ba-a49337895e51",
   "metadata": {},
   "outputs": [],
   "source": [
    "print(len(var))"
   ]
  },
  {
   "cell_type": "markdown",
   "id": "ae544ec8-e5bd-4975-b88f-76f1bf8a184f",
   "metadata": {},
   "source": [
    "##### var 변수는 target값을 제외한 특성들. 개수는 23개임을 알 수 있음."
   ]
  },
  {
   "cell_type": "markdown",
   "id": "c513818c-49be-441d-a57d-3625efeb630f",
   "metadata": {},
   "source": [
    "### 3. Dataset 학습 및 테스트 데이터 세트로 분할하기"
   ]
  },
  {
   "cell_type": "code",
   "execution_count": null,
   "id": "e5180d4a-5dc8-4db5-8d97-acfa535ebab3",
   "metadata": {},
   "outputs": [],
   "source": [
    "help(train_test_split)"
   ]
  },
  {
   "cell_type": "code",
   "execution_count": null,
   "id": "e37f0bca-2b81-4210-97f2-a88b1d7fd74d",
   "metadata": {},
   "outputs": [],
   "source": [
    "X_train, X_eval, y_train, y_eval = train_test_split(data[var], data['price'], test_size=0.2, random_state=42)"
   ]
  },
  {
   "cell_type": "code",
   "execution_count": null,
   "id": "fa66b3ea-f6bd-4fe0-a0ca-f68d9ae71613",
   "metadata": {},
   "outputs": [],
   "source": [
    "print(f'train samples: {len(X_train)}\\ntest samples: {len(X_test)}')"
   ]
  },
  {
   "cell_type": "markdown",
   "id": "1825baaf-259f-46f9-a16b-45322ac00488",
   "metadata": {},
   "source": [
    "모델 훈련"
   ]
  },
  {
   "cell_type": "code",
   "execution_count": null,
   "id": "b4b51546-0937-4eca-9f4e-3073cbbe1b76",
   "metadata": {},
   "outputs": [],
   "source": [
    "model = xgboost.XGBRegressor(\n",
    "    n_estimators=100,      # 트리 개수\n",
    "    max_depth=6,           # 최대 트리 깊이\n",
    "    learning_rate=0.1,     # 학습 속도\n",
    "    subsample=0.8,         # 데이터 샘플 비율\n",
    "    colsample_bytree=0.8,  # 특성 샘플 비율\n",
    "    random_state=42\n",
    ")"
   ]
  },
  {
   "cell_type": "code",
   "execution_count": null,
   "id": "2fa56a02-4144-4b40-a144-1c7545304e14",
   "metadata": {},
   "outputs": [],
   "source": [
    "print(xgboost.__version__)"
   ]
  },
  {
   "cell_type": "code",
   "execution_count": null,
   "id": "a9f9c3e8-e3a6-47b7-aeb5-6817730d8dca",
   "metadata": {},
   "outputs": [],
   "source": []
  }
 ],
 "metadata": {
  "kernelspec": {
   "display_name": "Python 3 (ipykernel)",
   "language": "python",
   "name": "python3"
  },
  "language_info": {
   "codemirror_mode": {
    "name": "ipython",
    "version": 3
   },
   "file_extension": ".py",
   "mimetype": "text/x-python",
   "name": "python",
   "nbconvert_exporter": "python",
   "pygments_lexer": "ipython3",
   "version": "3.11.7"
  }
 },
 "nbformat": 4,
 "nbformat_minor": 5
}
